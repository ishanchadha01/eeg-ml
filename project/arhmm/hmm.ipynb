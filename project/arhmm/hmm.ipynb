{
 "cells": [
  {
   "cell_type": "code",
   "execution_count": 1,
   "metadata": {},
   "outputs": [],
   "source": [
    "import numpy as np\n",
    "import tensorflow.compat.v2 as tf\n",
    "tf.enable_v2_behavior()\n",
    "import tensorflow_probability as tfp\n",
    "from tensorflow_probability import distributions as tfd\n",
    "\n",
    "from matplotlib import pylab as plt\n",
    "import scipy.stats"
   ]
  },
  {
   "cell_type": "code",
   "execution_count": 2,
   "metadata": {},
   "outputs": [],
   "source": [
    "import os, sys\n",
    "p = os.path.abspath('../..')\n",
    "if p not in sys.path:\n",
    "    sys.path.append(p)\n",
    "\n",
    "from project.data.make_steps import make_data_dict, step_detection"
   ]
  },
  {
   "cell_type": "code",
   "execution_count": 77,
   "metadata": {},
   "outputs": [
    {
     "name": "stdout",
     "output_type": "stream",
     "text": [
      "[ 3.84556184e-05  3.67771529e-05  3.40305730e-05 ... -2.28846657e-05\n",
      " -2.33424290e-05 -2.05958491e-05]\n"
     ]
    }
   ],
   "source": [
    "data_dict = make_data_dict('00010100_s001_t000')\n",
    "steps = step_detection(data_dict, 'FP1')\n",
    "step1 = steps[0]\n",
    "data = data_dict['FP1'][step1[0]:step1[1] - 10000]\n",
    "print(data)"
   ]
  },
  {
   "cell_type": "code",
   "execution_count": 78,
   "metadata": {},
   "outputs": [
    {
     "data": {
      "image/png": "[encoded data removed]",
      "text/plain": [
       "<Figure size 432x288 with 1 Axes>"
      ]
     },
     "metadata": {
      "needs_background": "light"
     },
     "output_type": "display_data"
    }
   ],
   "source": [
    "data = np.power(data[0:100],2) * np.power(10, 9)\n",
    "plt.plot(data)\n",
    "plt.show()"
   ]
  },
  {
   "cell_type": "code",
   "execution_count": 84,
   "metadata": {},
   "outputs": [
    {
     "name": "stdout",
     "output_type": "stream",
     "text": [
      "Initial state logits:\n",
      "[0. 0. 0. 0. 0. 0. 0.]\n",
      "Transition matrix:\n",
      "[[1.   0.   0.   0.   0.   0.   0.  ]\n",
      " [0.05 0.7  0.05 0.05 0.05 0.05 0.05]\n",
      " [0.05 0.05 0.7  0.05 0.05 0.05 0.05]\n",
      " [0.05 0.05 0.05 0.7  0.05 0.05 0.05]\n",
      " [0.05 0.05 0.05 0.05 0.7  0.05 0.05]\n",
      " [0.05 0.05 0.05 0.05 0.05 0.7  0.05]\n",
      " [0.   0.   0.   0.   0.   0.   1.  ]]\n"
     ]
    }
   ],
   "source": [
    "num_states = 7\n",
    "\n",
    "initial_state_logits = np.zeros([num_states], dtype=np.float32) # uniform distribution\n",
    "\n",
    "daily_change_prob = 0.3\n",
    "transition_probs = daily_change_prob / (num_states-1) * np.ones(\n",
    "    [num_states, num_states], dtype=np.float32)\n",
    "np.fill_diagonal(transition_probs,\n",
    "                 1-daily_change_prob)\n",
    "transition_probs[0] = np.zeros(num_states)\n",
    "transition_probs[0][0] = 1\n",
    "transition_probs[-1] = np.flip(transition_probs[0])\n",
    "\n",
    "print(\"Initial state logits:\\n{}\".format(initial_state_logits))\n",
    "print(\"Transition matrix:\\n{}\".format(transition_probs))"
   ]
  },
  {
   "cell_type": "code",
   "execution_count": 85,
   "metadata": {},
   "outputs": [],
   "source": [
    "# Define variable to represent the unknown log rates.\n",
    "trainable_log_rates = tf.Variable(\n",
    "  np.log(np.mean(data)) + tf.random.normal([num_states]),\n",
    "  name='log_rates')\n",
    "\n",
    "hmm = tfd.HiddenMarkovModel(\n",
    "  initial_distribution=tfd.Categorical(\n",
    "      logits=initial_state_logits),\n",
    "  transition_distribution=tfd.Categorical(probs=transition_probs),\n",
    "  observation_distribution=tfd.Poisson(log_rate=trainable_log_rates),\n",
    "  num_steps=len(data))"
   ]
  },
  {
   "cell_type": "code",
   "execution_count": 86,
   "metadata": {},
   "outputs": [],
   "source": [
    "rate_prior = tfd.LogNormal(5, 5)\n",
    "\n",
    "def log_prob():\n",
    "    return (tf.reduce_sum(rate_prior.log_prob(tf.math.exp(trainable_log_rates))) + hmm.log_prob(data))\n",
    "\n",
    "optimizer = tf.keras.optimizers.Adam(learning_rate=0.1)\n",
    "\n",
    "@tf.function(autograph=False)\n",
    "def train_op():\n",
    "    with tf.GradientTape() as tape:\n",
    "        neg_log_prob = -log_prob()\n",
    "    grads = tape.gradient(neg_log_prob, [trainable_log_rates])[0]\n",
    "    optimizer.apply_gradients([(grads, trainable_log_rates)])\n",
    "    return neg_log_prob, tf.math.exp(trainable_log_rates)"
   ]
  },
  {
   "cell_type": "code",
   "execution_count": 88,
   "metadata": {},
   "outputs": [
    {
     "name": "stdout",
     "output_type": "stream",
     "text": [
      "step 0: log prob -63.73637771606445 rates [5.6866843e-01 5.9560807e-07 2.0529204e-07 1.2085600e-07 5.0987148e-07\n",
      " 1.3849233e-07 4.2587118e-08]\n",
      "step 2: log prob -63.64155197143555 rates [5.6866544e-01 5.4173665e-07 1.8812354e-07 1.1132173e-07 4.6415826e-07\n",
      " 1.2739095e-07 3.9723659e-08]\n",
      "step 4: log prob -63.54981994628906 rates [5.68662465e-01 4.93300547e-07 1.72602398e-07 1.02666917e-07\n",
      " 4.23033441e-07 1.17324575e-07 3.70981326e-08]\n",
      "step 6: log prob -63.46104431152344 rates [5.6866318e-01 4.4970605e-07 1.5855511e-07 9.4801720e-08 3.8599671e-07\n",
      " 1.0818666e-07 3.4688124e-08]\n",
      "step 8: log prob -63.375160217285156 rates [5.6866604e-01 4.1042807e-07 1.4582757e-07 8.7646157e-08 3.5260655e-07\n",
      " 9.9882222e-08 3.2473739e-08]\n",
      "step 10: log prob -63.29207229614258 rates [5.6866711e-01 3.7500280e-07 1.3428323e-07 8.1129208e-08 3.2247235e-07\n",
      " 9.2327163e-08 3.0436919e-08]\n",
      "step 12: log prob -63.211708068847656 rates [5.6866533e-01 3.4301934e-07 1.2380062e-07 7.5187401e-08 2.9524833e-07\n",
      " 8.5446175e-08 2.8561443e-08]\n",
      "step 14: log prob -63.134056091308594 rates [5.6866348e-01 3.1411344e-07 1.1427192e-07 6.9764148e-08 2.7062805e-07\n",
      " 7.9172644e-08 2.6832835e-08]\n",
      "step 16: log prob -63.0589714050293 rates [5.6866390e-01 2.8796259e-07 1.0560093e-07 6.4808795e-08 2.4833943e-07\n",
      " 7.3446664e-08 2.5237904e-08]\n",
      "step 18: log prob -62.98638916015625 rates [5.6866562e-01 2.6428032e-07 9.7702163e-08 6.0276307e-08 2.2814088e-07\n",
      " 6.8214909e-08 2.3764912e-08]\n",
      "step 20: log prob -62.916229248046875 rates [5.6866622e-01 2.4281186e-07 9.0499263e-08 5.6126289e-08 2.0981794e-07\n",
      " 6.3429695e-08 2.2403173e-08]\n",
      "step 22: log prob -62.848487854003906 rates [5.6866515e-01 2.2333087e-07 8.3924014e-08 5.2322438e-08 1.9317983e-07\n",
      " 5.9048482e-08 2.1143119e-08]\n",
      "step 24: log prob -62.78305435180664 rates [5.6866407e-01 2.0563591e-07 7.7915608e-08 4.8832334e-08 1.7805642e-07\n",
      " 5.5032835e-08 1.9975987e-08]\n",
      "step 26: log prob -62.71984100341797 rates [5.6866437e-01 1.8954731e-07 7.2419503e-08 4.5626869e-08 1.6429613e-07\n",
      " 5.1348614e-08 1.8893919e-08]\n",
      "step 28: log prob -62.658790588378906 rates [5.6866544e-01 1.7490500e-07 6.7387013e-08 4.2679819e-08 1.5176356e-07\n",
      " 4.7964981e-08 1.7889768e-08]\n",
      "step 30: log prob -62.5998649597168 rates [5.6866574e-01 1.6156595e-07 6.2774234e-08 3.9967691e-08 1.4033800e-07\n",
      " 4.4854421e-08 1.6957054e-08]\n",
      "step 32: log prob -62.543006896972656 rates [5.6866503e-01 1.4940242e-07 5.8542046e-08 3.7469338e-08 1.2991156e-07\n",
      " 4.1992092e-08 1.6089961e-08]\n",
      "step 34: log prob -62.48815155029297 rates [5.6866443e-01 1.3830029e-07 5.4655207e-08 3.5165566e-08 1.2038770e-07\n",
      " 3.9355555e-08 1.5283115e-08]\n",
      "step 36: log prob -62.43519592285156 rates [5.6866461e-01 1.2815704e-07 5.1082029e-08 3.3039278e-08 1.1167987e-07\n",
      " 3.6924611e-08 1.4531661e-08]\n",
      "step 38: log prob -62.38410949707031 rates [5.68665266e-01 1.18881239e-07 4.77939324e-08 3.10748476e-08\n",
      " 1.03710434e-07 3.46811113e-08 1.38312357e-08]\n",
      "step 40: log prob -62.33484649658203 rates [5.6866544e-01 1.1039076e-07 4.4765365e-08 2.9258340e-08 9.6410226e-08\n",
      " 3.2608675e-08 1.3177759e-08]\n",
      "Inferred rates: [5.6866544e-01 1.1039076e-07 4.4765365e-08 2.9258340e-08 9.6410226e-08\n",
      " 3.2608675e-08 1.3177759e-08]\n"
     ]
    }
   ],
   "source": [
    "for step in range(41):\n",
    "    loss, rates = [t.numpy() for t in train_op()]\n",
    "    if step % 2 == 0:\n",
    "        print(\"step {}: log prob {} rates {}\".format(step, -loss, rates))\n",
    "\n",
    "print(\"Inferred rates: {}\".format(rates))"
   ]
  },
  {
   "cell_type": "code",
   "execution_count": null,
   "metadata": {},
   "outputs": [],
   "source": []
  }
 ],
 "metadata": {
  "kernelspec": {
   "display_name": "Python 3",
   "language": "python",
   "name": "python3"
  },
  "language_info": {
   "codemirror_mode": {
    "name": "ipython",
    "version": 3
   },
   "file_extension": ".py",
   "mimetype": "text/x-python",
   "name": "python",
   "nbconvert_exporter": "python",
   "pygments_lexer": "ipython3",
   "version": "3.7.7"
  }
 },
 "nbformat": 4,
 "nbformat_minor": 4
}

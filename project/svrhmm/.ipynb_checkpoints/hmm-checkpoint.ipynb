{
 "cells": [
  {
   "cell_type": "code",
   "execution_count": 1,
   "metadata": {},
   "outputs": [],
   "source": [
    "import numpy as np\n",
    "import tensorflow.compat.v2 as tf\n",
    "tf.enable_v2_behavior()\n",
    "import tensorflow_probability as tfp\n",
    "from tensorflow_probability import distributions as tfd\n",
    "\n",
    "from matplotlib import pylab as plt\n",
    "import scipy.stats\n",
    "\n",
    "import os, sys\n",
    "p = os.path.abspath('../..')\n",
    "if p not in sys.path:\n",
    "    sys.path.append(p)\n",
    "\n",
    "from project.data.make_steps import make_data_dict, step_detection"
   ]
  },
  {
   "cell_type": "code",
   "execution_count": 2,
   "metadata": {},
   "outputs": [
    {
     "name": "stdout",
     "output_type": "stream",
     "text": [
      "[ 3.84556184e-05  3.67771529e-05  3.40305730e-05 ... -2.28846657e-05\n",
      " -2.33424290e-05 -2.05958491e-05] [7.06516381e-05 7.58396223e-05 7.69077367e-05 ... 3.50000000e-09\n",
      " 3.50000000e-09 3.50000000e-09]\n"
     ]
    }
   ],
   "source": [
    "data_dict1 = make_data_dict('00010100_s001_t000')\n",
    "data_dict2 = make_data_dict('00010102_s001_t000')\n",
    "steps1 = step_detection(data_dict1, 'FP1')\n",
    "steps2 = step_detection(data_dict2, 'FP1')\n",
    "step1 = steps1[0]\n",
    "step2 = steps2\n",
    "data1 = data_dict1['FP1'][step1[0]:step1[1] - 10000]\n",
    "data2 = data_dict2['FP1'][step2[0]:step2[1]]\n",
    "print(data1, data2)"
   ]
  },
  {
   "cell_type": "code",
   "execution_count": 5,
   "metadata": {},
   "outputs": [
    {
     "data": {
      "image/png": "[encoded data removed]",
      "text/plain": [
       "<Figure size 432x288 with 1 Axes>"
      ]
     },
     "metadata": {
      "needs_background": "light"
     },
     "output_type": "display_data"
    },
    {
     "data": {
      "image/png": "[encoded data removed]",
      "text/plain": [
       "<Figure size 432x288 with 1 Axes>"
      ]
     },
     "metadata": {
      "needs_background": "light"
     },
     "output_type": "display_data"
    },
    {
     "name": "stdout",
     "output_type": "stream",
     "text": [
      "[0.38455618 0.36777153 0.34030573 0.32962459 0.3219952  0.25027894\n",
      " 0.23349429 0.20450261 0.17551094 0.17856269] [0.70651638 0.75839622 0.76907737 0.74924096 0.70804226 0.79196553\n",
      " 0.76297386 0.64548127 0.72635279 0.70956814]\n"
     ]
    }
   ],
   "source": [
    "#data11 = (data1 * np.power(10, 4))[::10000]\n",
    "#data22 = (data2 * np.power(10, 4))[::10000]\n",
    "data11 = (data1[:10])*np.power(10,4)\n",
    "data22 = (data2[:10])*np.power(10,4)\n",
    "plt.plot(data11)\n",
    "plt.show()\n",
    "plt.plot(data22)\n",
    "plt.show()\n",
    "print(data11, data22)"
   ]
  },
  {
   "cell_type": "code",
   "execution_count": 22,
   "metadata": {},
   "outputs": [
    {
     "name": "stdout",
     "output_type": "stream",
     "text": [
      "Initial state:\n",
      "tfp.distributions.Categorical(\"Categorical\", batch_shape=[], event_shape=[], dtype=int32)\n",
      "Transition matrix:\n",
      "[[0.7        0.03333334 0.03333334 0.03333334 0.03333334 0.03333334\n",
      "  0.03333334 0.03333334 0.03333334 0.03333334]\n",
      " [0.03333334 0.7        0.03333334 0.03333334 0.03333334 0.03333334\n",
      "  0.03333334 0.03333334 0.03333334 0.03333334]\n",
      " [0.03333334 0.03333334 0.7        0.03333334 0.03333334 0.03333334\n",
      "  0.03333334 0.03333334 0.03333334 0.03333334]\n",
      " [0.03333334 0.03333334 0.03333334 0.7        0.03333334 0.03333334\n",
      "  0.03333334 0.03333334 0.03333334 0.03333334]\n",
      " [0.03333334 0.03333334 0.03333334 0.03333334 0.7        0.03333334\n",
      "  0.03333334 0.03333334 0.03333334 0.03333334]\n",
      " [0.03333334 0.03333334 0.03333334 0.03333334 0.03333334 0.7\n",
      "  0.03333334 0.03333334 0.03333334 0.03333334]\n",
      " [0.03333334 0.03333334 0.03333334 0.03333334 0.03333334 0.03333334\n",
      "  0.7        0.03333334 0.03333334 0.03333334]\n",
      " [0.03333334 0.03333334 0.03333334 0.03333334 0.03333334 0.03333334\n",
      "  0.03333334 0.7        0.03333334 0.03333334]\n",
      " [0.03333334 0.03333334 0.03333334 0.03333334 0.03333334 0.03333334\n",
      "  0.03333334 0.03333334 0.7        0.03333334]\n",
      " [0.03333334 0.03333334 0.03333334 0.03333334 0.03333334 0.03333334\n",
      "  0.03333334 0.03333334 0.03333334 0.7       ]]\n"
     ]
    }
   ],
   "source": [
    "tfd = tfp.distributions\n",
    "\n",
    "num_states = 10\n",
    "\n",
    "initial_distribution = tfd.Categorical(probs=np.ones(shape=[num_states]))\n",
    "\n",
    "daily_change_prob = 0.3\n",
    "transition_probs = daily_change_prob / (num_states-1) * np.ones([num_states, num_states], dtype=np.float32)\n",
    "np.fill_diagonal(transition_probs,1-daily_change_prob)\n",
    "#transition_probs[0] = np.zeros(num_states)\n",
    "#transition_probs[0][0] = 1\n",
    "#transition_probs[-1] = np.flip(transition_probs[0])\n",
    "\n",
    "print(\"Initial state:\\n{}\".format(initial_distribution))\n",
    "print(\"Transition matrix:\\n{}\".format(transition_probs))\n",
    "\n",
    "transition_distribution = tfd.Categorical(probs=transition_probs)"
   ]
  },
  {
   "cell_type": "code",
   "execution_count": 28,
   "metadata": {},
   "outputs": [
    {
     "ename": "TypeError",
     "evalue": "__init__() missing 1 required positional argument: 'num_steps'",
     "output_type": "error",
     "traceback": [
      "\u001b[0;31m---------------------------------------------------------------------------\u001b[0m",
      "\u001b[0;31mTypeError\u001b[0m                                 Traceback (most recent call last)",
      "\u001b[0;32m<ipython-input-28-868626df9161>\u001b[0m in \u001b[0;36m<module>\u001b[0;34m\u001b[0m\n\u001b[1;32m      7\u001b[0m     \u001b[0minitial_distribution\u001b[0m\u001b[0;34m=\u001b[0m\u001b[0minitial_distribution\u001b[0m\u001b[0;34m,\u001b[0m\u001b[0;34m\u001b[0m\u001b[0;34m\u001b[0m\u001b[0m\n\u001b[1;32m      8\u001b[0m     \u001b[0mtransition_distribution\u001b[0m\u001b[0;34m=\u001b[0m\u001b[0mtransition_distribution\u001b[0m\u001b[0;34m,\u001b[0m\u001b[0;34m\u001b[0m\u001b[0;34m\u001b[0m\u001b[0m\n\u001b[0;32m----> 9\u001b[0;31m     \u001b[0mobservation_distribution\u001b[0m\u001b[0;34m=\u001b[0m\u001b[0mdata11\u001b[0m\u001b[0;34m\u001b[0m\u001b[0;34m\u001b[0m\u001b[0m\n\u001b[0m\u001b[1;32m     10\u001b[0m     \u001b[0;31m#num_steps=len(data11)\u001b[0m\u001b[0;34m\u001b[0m\u001b[0;34m\u001b[0m\u001b[0;34m\u001b[0m\u001b[0m\n\u001b[1;32m     11\u001b[0m )\n",
      "\u001b[0;31mTypeError\u001b[0m: __init__() missing 1 required positional argument: 'num_steps'"
     ]
    }
   ],
   "source": [
    "observation_distribution = tfd.Normal(\n",
    "    loc=data11.astype('float32'),\n",
    "    scale=1*np.ones(shape=[num_states], dtype='float32')\n",
    ")\n",
    "\n",
    "hmm = tfd.HiddenMarkovModel(\n",
    "    initial_distribution=initial_distribution,\n",
    "    transition_distribution=transition_distribution,\n",
    "    observation_distribution=data11,\n",
    "    num_steps=len(data11)\n",
    ")\n",
    "\n",
    "hmm.mean()"
   ]
  },
  {
   "cell_type": "code",
   "execution_count": 20,
   "metadata": {},
   "outputs": [
    {
     "data": {
      "text/plain": [
       "<tf.Tensor: shape=(), dtype=float32, numpy=-3.4918156>"
      ]
     },
     "execution_count": 20,
     "metadata": {},
     "output_type": "execute_result"
    }
   ],
   "source": [
    "hmm.log_prob(tf.zeros(shape=[num_states]))"
   ]
  },
  {
   "cell_type": "code",
   "execution_count": 9,
   "metadata": {},
   "outputs": [
    {
     "data": {
      "text/plain": [
       "<tf.Tensor: shape=(10,), dtype=int64, numpy=array([0, 0, 0, 0, 0, 0, 0, 0, 0, 0])>"
      ]
     },
     "execution_count": 9,
     "metadata": {},
     "output_type": "execute_result"
    }
   ],
   "source": [
    "hmm.posterior_mode(np.array(data11,dtype='float32'))"
   ]
  },
  {
   "cell_type": "code",
   "execution_count": 4,
   "metadata": {},
   "outputs": [
    {
     "ename": "SyntaxError",
     "evalue": "invalid syntax (<ipython-input-4-5be0174929f1>, line 6)",
     "output_type": "error",
     "traceback": [
      "\u001b[0;36m  File \u001b[0;32m\"<ipython-input-4-5be0174929f1>\"\u001b[0;36m, line \u001b[0;32m6\u001b[0m\n\u001b[0;31m    probs = matrix(c(0.7, 0.3, 0.2, 0.8), nrow = 2, byrow = TRUE) %>%\u001b[0m\n\u001b[0m                                                                   ^\u001b[0m\n\u001b[0;31mSyntaxError\u001b[0m\u001b[0;31m:\u001b[0m invalid syntax\n"
     ]
    }
   ],
   "source": []
  },
  {
   "cell_type": "code",
   "execution_count": null,
   "metadata": {},
   "outputs": [],
   "source": []
  }
 ],
 "metadata": {
  "kernelspec": {
   "display_name": "Python 3",
   "language": "python",
   "name": "python3"
  },
  "language_info": {
   "codemirror_mode": {
    "name": "ipython",
    "version": 3
   },
   "file_extension": ".py",
   "mimetype": "text/x-python",
   "name": "python",
   "nbconvert_exporter": "python",
   "pygments_lexer": "ipython3",
   "version": "3.7.7"
  }
 },
 "nbformat": 4,
 "nbformat_minor": 4
}
